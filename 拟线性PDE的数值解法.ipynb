{
  "nbformat": 4,
  "nbformat_minor": 0,
  "metadata": {
    "colab": {
      "provenance": [],
      "authorship_tag": "ABX9TyNA256nLCJ3o7Tgc/rJ8XaE",
      "include_colab_link": true
    },
    "kernelspec": {
      "name": "python3",
      "display_name": "Python 3"
    },
    "language_info": {
      "name": "python"
    }
  },
  "cells": [
    {
      "cell_type": "markdown",
      "metadata": {
        "id": "view-in-github",
        "colab_type": "text"
      },
      "source": [
        "<a href=\"https://colab.research.google.com/github/Xujjjjun2002/PDE/blob/main/%E6%8B%9F%E7%BA%BF%E6%80%A7PDE%E7%9A%84%E6%95%B0%E5%80%BC%E8%A7%A3%E6%B3%95.ipynb\" target=\"_parent\"><img src=\"https://colab.research.google.com/assets/colab-badge.svg\" alt=\"Open In Colab\"/></a>"
      ]
    },
    {
      "cell_type": "code",
      "execution_count": null,
      "metadata": {
        "id": "QeNt5kryr2pS"
      },
      "outputs": [],
      "source": [
        "import numpy as np\n",
        "import matplotlib.pyplot as plt"
      ]
    },
    {
      "cell_type": "markdown",
      "source": [
        "## 求解"
      ],
      "metadata": {
        "id": "E8PzuTgdto3u"
      }
    },
    {
      "cell_type": "markdown",
      "source": [
        "首先考虑CFL条件，由于a的范围总在($\\frac{1}{6}$,1)中，我们取dx=dt即可"
      ],
      "metadata": {
        "id": "hJpyQtWctuOG"
      }
    },
    {
      "cell_type": "code",
      "source": [
        "dt = 0.2\n",
        "dx = 0.2 \n",
        "X = int(2/dx)\n",
        "T = int(1/dt)"
      ],
      "metadata": {
        "id": "ZfOGxaHasL9h"
      },
      "execution_count": null,
      "outputs": []
    },
    {
      "cell_type": "markdown",
      "source": [
        "我们推导迎风格式的数值解法，由于 ：\n",
        "$U_j^{m+1} = (1-v)U_j^{m} + v U_{j-1}^m$ \\\\\n",
        "因此，$U_j^{m} - (1-v)U_j^{m-1} - v U_{j-1}^{m-1} = 0$ 对于一切非边界的情况成立 \\\\\n",
        "j = 1,2,...,X \\\\\n",
        "m = 1,2,...,T \\\\\n",
        "接着我们把边界条件带入得到方程组即可。"
      ],
      "metadata": {
        "id": "OIIfEjSSudiu"
      }
    },
    {
      "cell_type": "code",
      "source": [
        "def v(j):\n",
        "  x = j*dx\n",
        "  result = (1+x**2)/(1+2*x+2*x**2+x**4)\n",
        "  return result "
      ],
      "metadata": {
        "id": "0FdIjNkCucRq"
      },
      "execution_count": null,
      "outputs": []
    },
    {
      "cell_type": "code",
      "source": [
        "def find_index(j,m):\n",
        "  index = m*(X+1)+j\n",
        "  return index"
      ],
      "metadata": {
        "id": "VaQu0_E30ICk"
      },
      "execution_count": null,
      "outputs": []
    },
    {
      "cell_type": "code",
      "source": [
        "F = np.zeros([(X+1)*(T+1),1])\n",
        "A = np.zeros([(X+1)*(T+1),(X+1)*(T+1)])"
      ],
      "metadata": {
        "id": "1tlNpQlKzN1l"
      },
      "execution_count": null,
      "outputs": []
    },
    {
      "cell_type": "markdown",
      "source": [
        "### 我们首先来定义初始条件"
      ],
      "metadata": {
        "id": "vzEnM3fV1sfw"
      }
    },
    {
      "cell_type": "code",
      "source": [
        "for j in range(int(0.2/dx),int(0.4/dx)):\n",
        "  F[find_index(j,0)] = 1\n",
        "for j in range(0,X+1):\n",
        "  A[j,find_index(j,0)] = 1"
      ],
      "metadata": {
        "id": "REllyfcm1oco"
      },
      "execution_count": null,
      "outputs": []
    },
    {
      "cell_type": "markdown",
      "source": [
        "### 然后定义边界条件"
      ],
      "metadata": {
        "id": "jK6W12Ij4jGn"
      }
    },
    {
      "cell_type": "code",
      "source": [
        "r = 0\n",
        "for m in range(1,T+1):\n",
        "  rank = X+1+r\n",
        "  r+=1\n",
        "  A[rank,find_index(0,m)] = 1"
      ],
      "metadata": {
        "id": "XqfWSGS028sm"
      },
      "execution_count": null,
      "outputs": []
    },
    {
      "cell_type": "markdown",
      "source": [
        "### 我们采用迎风格式进行求解"
      ],
      "metadata": {
        "id": "wpye1QM_6-Yr"
      }
    },
    {
      "cell_type": "code",
      "source": [
        "r = 0\n",
        "for m in range(0,T):\n",
        "  for j in range(1,X+1):\n",
        "    rank = X+1+T+r\n",
        "    r+=1\n",
        "    A[rank,find_index(j,m+1)] = 1\n",
        "    A[rank,find_index(j,m)] = -(1-v(j))\n",
        "    A[rank,find_index(j-1,m)] = -v(j)\n",
        "U = (np.matrix(A).I)*F\n",
        "print(U)"
      ],
      "metadata": {
        "id": "WYGfqFmX67Wf",
        "colab": {
          "base_uri": "https://localhost:8080/"
        },
        "outputId": "0eaf7cc0-54de-438f-ae5f-bb01a26f1b19"
      },
      "execution_count": null,
      "outputs": [
        {
          "output_type": "stream",
          "name": "stdout",
          "text": [
            "[[ 0.        ]\n",
            " [ 1.        ]\n",
            " [ 0.        ]\n",
            " [ 0.        ]\n",
            " [ 0.        ]\n",
            " [ 0.        ]\n",
            " [ 0.        ]\n",
            " [ 0.        ]\n",
            " [ 0.        ]\n",
            " [ 0.        ]\n",
            " [ 0.        ]\n",
            " [ 0.        ]\n",
            " [-0.13752666]\n",
            " [ 0.43558282]\n",
            " [ 0.10505849]\n",
            " [-0.10505849]\n",
            " [ 0.10505849]\n",
            " [-0.10505849]\n",
            " [ 0.10505849]\n",
            " [-0.10505849]\n",
            " [ 0.10505849]\n",
            " [-0.10505849]\n",
            " [ 0.        ]\n",
            " [-1.56784403]\n",
            " [ 1.46824179]\n",
            " [-1.34257227]\n",
            " [ 1.59560548]\n",
            " [-1.62106374]\n",
            " [ 1.65689475]\n",
            " [-1.70143646]\n",
            " [ 1.75356754]\n",
            " [-2.49916308]\n",
            " [ 0.59157667]\n",
            " [ 0.        ]\n",
            " [ 1.03073098]\n",
            " [-0.10756596]\n",
            " [-2.81674416]\n",
            " [ 4.47161756]\n",
            " [-3.56610049]\n",
            " [ 1.4496128 ]\n",
            " [-0.37337041]\n",
            " [ 1.68186199]\n",
            " [-1.38580761]\n",
            " [-0.87263447]\n",
            " [ 0.        ]\n",
            " [ 1.43416429]\n",
            " [ 1.25114674]\n",
            " [-2.01738677]\n",
            " [ 1.12792576]\n",
            " [-0.71339119]\n",
            " [-0.57991587]\n",
            " [ 1.4156667 ]\n",
            " [ 1.91193496]\n",
            " [-0.94527165]\n",
            " [-0.63070208]\n",
            " [ 0.        ]\n",
            " [-2.79779348]\n",
            " [ 2.1080502 ]\n",
            " [-0.49026412]\n",
            " [ 0.77537577]\n",
            " [ 0.6672829 ]\n",
            " [-0.82860486]\n",
            " [ 0.06334121]\n",
            " [ 0.6593299 ]\n",
            " [ 1.22353242]\n",
            " [-1.55757268]]\n"
          ]
        }
      ]
    },
    {
      "cell_type": "markdown",
      "source": [
        "### 采用Beam-Warming格式求解"
      ],
      "metadata": {
        "id": "FDbMkq5o0iis"
      }
    },
    {
      "cell_type": "code",
      "source": [
        "r = 0\n",
        "for m in range(0,T):\n",
        "  for j in range(2,X+1):\n",
        "    rank = X+1+T+r\n",
        "    r+=1\n",
        "    A[rank,find_index(j,m+1)] = 1\n",
        "    A[rank,find_index(j,m)] = -0.5*(1-v(j))*(2-v(j))\n",
        "    A[rank,find_index(j-1,m)] = -v(j)*(2-v(j))\n",
        "    A[rank,find_index(j-2,m)] = v(j)*(1-v(j))\n",
        "  for j in range(0,1):##注意在边界处仍然采用upwind格式\n",
        "    rank = X+1+T+r\n",
        "    r+=1\n",
        "    A[rank,find_index(j,m+1)] = 1\n",
        "    A[rank,find_index(j,m)] = -(1-v(j))\n",
        "    A[rank,find_index(j-1,m)] = -v(j)\n",
        "U = (np.matrix(A).I)*F\n",
        "print(U)"
      ],
      "metadata": {
        "id": "usD-fVBl2ip8",
        "colab": {
          "base_uri": "https://localhost:8080/"
        },
        "outputId": "8c0966c2-0db3-4ead-a685-1b306319430c"
      },
      "execution_count": null,
      "outputs": [
        {
          "output_type": "stream",
          "name": "stdout",
          "text": [
            "[[ 0.        ]\n",
            " [ 1.        ]\n",
            " [ 0.        ]\n",
            " [ 0.        ]\n",
            " [ 0.        ]\n",
            " [ 0.        ]\n",
            " [ 0.        ]\n",
            " [ 0.        ]\n",
            " [ 0.        ]\n",
            " [ 0.        ]\n",
            " [ 0.        ]\n",
            " [ 0.        ]\n",
            " [ 1.69225385]\n",
            " [-0.90326425]\n",
            " [ 0.65618456]\n",
            " [-0.65618456]\n",
            " [ 0.65618456]\n",
            " [-0.65618456]\n",
            " [ 0.65618456]\n",
            " [-0.65618456]\n",
            " [ 0.65618456]\n",
            " [-0.65618456]\n",
            " [ 0.        ]\n",
            " [ 0.44601517]\n",
            " [ 0.50491413]\n",
            " [-1.18548137]\n",
            " [ 1.39930787]\n",
            " [-1.47221727]\n",
            " [ 1.470725  ]\n",
            " [-1.40050492]\n",
            " [ 1.26696569]\n",
            " [-1.72134251]\n",
            " [ 0.05062263]\n",
            " [ 0.        ]\n",
            " [ 1.64831237]\n",
            " [ 0.20975141]\n",
            " [-2.45950564]\n",
            " [ 3.34773486]\n",
            " [-2.51360309]\n",
            " [ 0.87884491]\n",
            " [ 0.07070327]\n",
            " [ 0.43194629]\n",
            " [-0.6190481 ]\n",
            " [-0.07949132]\n",
            " [ 0.        ]\n",
            " [ 0.42421806]\n",
            " [ 1.15396318]\n",
            " [-3.14789047]\n",
            " [ 2.29791172]\n",
            " [-0.9148106 ]\n",
            " [ 1.27408508]\n",
            " [-0.20690266]\n",
            " [-1.30038145]\n",
            " [ 1.31049652]\n",
            " [-1.58237705]\n",
            " [ 0.        ]\n",
            " [ 1.77452434]\n",
            " [ 1.06749052]\n",
            " [-2.47858933]\n",
            " [ 2.69871524]\n",
            " [-2.56460354]\n",
            " [ 1.76500689]\n",
            " [-1.1561153 ]\n",
            " [-0.04356677]\n",
            " [ 0.56492292]\n",
            " [-1.16309706]]\n"
          ]
        }
      ]
    },
    {
      "cell_type": "markdown",
      "source": [
        "### 采用lax-wendorff格式求解"
      ],
      "metadata": {
        "id": "MqiaNO6M0sx2"
      }
    },
    {
      "cell_type": "code",
      "source": [
        "r = 0\n",
        "for m in range(0,T):\n",
        "  for j in range(1,X):\n",
        "    rank = X+1+T+r\n",
        "    r+=1\n",
        "    A[rank,find_index(j,m+1)] = 1\n",
        "    A[rank,find_index(j,m)] = -(1-v(j))*(1+v(j))\n",
        "    A[rank,find_index(j-1,m)] = -0.5*v(j)*(1+v(j))\n",
        "    A[rank,find_index(j+1,m)] = 0.5*v(j)*(1-v(j))\n",
        "  for j in range(X,X+1):##注意边界仍然采用upwind格式\n",
        "    rank = X+1+T+r\n",
        "    r+=1\n",
        "    A[rank,find_index(j,m+1)] = 1\n",
        "    A[rank,find_index(j,m)] = -(1-v(j))\n",
        "    A[rank,find_index(j-1,m)] = -v(j)\n",
        "U = (np.matrix(A).I)*F\n",
        "print(U)"
      ],
      "metadata": {
        "colab": {
          "base_uri": "https://localhost:8080/"
        },
        "id": "Callyjbi0yG7",
        "outputId": "beb91076-d215-4dcb-8a38-8e1b140abee2"
      },
      "execution_count": null,
      "outputs": [
        {
          "output_type": "stream",
          "name": "stdout",
          "text": [
            "[[ 0.        ]\n",
            " [ 1.        ]\n",
            " [ 0.        ]\n",
            " [ 0.        ]\n",
            " [ 0.        ]\n",
            " [ 0.        ]\n",
            " [ 0.        ]\n",
            " [ 0.        ]\n",
            " [ 0.        ]\n",
            " [ 0.        ]\n",
            " [ 0.        ]\n",
            " [ 0.        ]\n",
            " [ 0.16967438]\n",
            " [ 0.33760046]\n",
            " [ 0.07886671]\n",
            " [-0.07886671]\n",
            " [ 0.07886671]\n",
            " [-0.07886671]\n",
            " [ 0.07886671]\n",
            " [-0.07886671]\n",
            " [ 0.07886671]\n",
            " [-0.07886671]\n",
            " [ 0.        ]\n",
            " [-0.07189555]\n",
            " [ 0.11285773]\n",
            " [ 0.19667825]\n",
            " [-0.02421641]\n",
            " [-0.02283165]\n",
            " [ 0.07601866]\n",
            " [-0.13391712]\n",
            " [ 0.19558462]\n",
            " [-0.48437673]\n",
            " [ 0.15259004]\n",
            " [ 0.        ]\n",
            " [ 0.35628617]\n",
            " [-0.17875562]\n",
            " [-0.06525284]\n",
            " [ 0.2515333 ]\n",
            " [-0.01807967]\n",
            " [-0.11608512]\n",
            " [-0.04372418]\n",
            " [ 0.46676077]\n",
            " [-0.54978126]\n",
            " [ 0.03796914]\n",
            " [ 0.        ]\n",
            " [ 0.49195183]\n",
            " [ 0.08706203]\n",
            " [-0.21505182]\n",
            " [-0.17992023]\n",
            " [ 0.21069122]\n",
            " [ 0.14891554]\n",
            " [ 0.06491254]\n",
            " [ 0.17822193]\n",
            " [-0.0480216 ]\n",
            " [-0.27937536]\n",
            " [ 0.        ]\n",
            " [-0.10666276]\n",
            " [ 0.64810461]\n",
            " [-0.27126715]\n",
            " [ 0.13327298]\n",
            " [-0.17024192]\n",
            " [ 0.08562018]\n",
            " [ 0.0836374 ]\n",
            " [-0.01600983]\n",
            " [ 0.19835633]\n",
            " [-0.20151765]]\n"
          ]
        }
      ]
    }
  ]
}